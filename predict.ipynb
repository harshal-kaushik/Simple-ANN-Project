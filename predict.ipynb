{
 "cells": [
  {
   "cell_type": "code",
   "id": "initial_id",
   "metadata": {
    "collapsed": true,
    "ExecuteTime": {
     "end_time": "2025-10-24T17:14:38.561282Z",
     "start_time": "2025-10-24T17:14:34.119845Z"
    }
   },
   "source": [
    "import pandas as pd\n",
    "import numpy as np\n",
    "import tensorflow as tf\n",
    "from tensorflow.keras.models import load_model\n",
    "import pickle"
   ],
   "outputs": [],
   "execution_count": 1
  },
  {
   "metadata": {
    "ExecuteTime": {
     "end_time": "2025-10-24T17:14:41.729593Z",
     "start_time": "2025-10-24T17:14:41.589643Z"
    }
   },
   "cell_type": "code",
   "source": [
    "## Load the training model\n",
    "model = load_model('model.h5')\n",
    "\n",
    "## load the encoder and scalar\n",
    "with open('label_encoder.pkl', 'rb') as file:\n",
    "    labels_encoder_gender = pickle.load(file)\n",
    "with open('one_hot_encoder.pkl', 'rb') as file:\n",
    "    one_hot_encoder = pickle.load(file)\n",
    "with open('scalar.pkl', 'rb') as file:\n",
    "    scalar = pickle.load(file)"
   ],
   "id": "2fb1f2c4db28db55",
   "outputs": [
    {
     "name": "stderr",
     "output_type": "stream",
     "text": [
      "WARNING:absl:Compiled the loaded model, but the compiled metrics have yet to be built. `model.compile_metrics` will be empty until you train or evaluate the model.\n"
     ]
    }
   ],
   "execution_count": 2
  },
  {
   "metadata": {
    "ExecuteTime": {
     "end_time": "2025-10-24T17:14:52.527901Z",
     "start_time": "2025-10-24T17:14:52.513513Z"
    }
   },
   "cell_type": "code",
   "source": "one_hot_encoder.categories_",
   "id": "b5077dfeb314a7af",
   "outputs": [
    {
     "data": {
      "text/plain": [
       "[array(['France', 'Germany', 'Spain'], dtype=object)]"
      ]
     },
     "execution_count": 3,
     "metadata": {},
     "output_type": "execute_result"
    }
   ],
   "execution_count": 3
  },
  {
   "metadata": {
    "ExecuteTime": {
     "end_time": "2025-10-24T17:17:39.447726Z",
     "start_time": "2025-10-24T17:17:39.430787Z"
    }
   },
   "cell_type": "code",
   "source": [
    "input_data = {\n",
    "    'CreditScore': 600,\n",
    "'Geography': 'France',\n",
    "'Gender': 'Male',\n",
    "'Age': 40,\n",
    "'Tenure': 3,\n",
    "    'Balance': 600000,\n",
    "    'NumOfProducts':2,\n",
    "    \"HasCrCard\" : 1,\n",
    "    \"IsActiveMember\" : 1,\n",
    "    \"EstimatedSalary\": 600000,\n",
    "}\n",
    "\n",
    "# convert this into dataframe\n",
    "input_df=pd.DataFrame(input_data,index=[0])\n",
    "input_df\n"
   ],
   "id": "331dbf384a9e7f9c",
   "outputs": [
    {
     "data": {
      "text/plain": [
       "   CreditScore Geography Gender  Age  Tenure  Balance  NumOfProducts  \\\n",
       "0          600    France   Male   40       3   600000              2   \n",
       "\n",
       "   HasCrCard  IsActiveMember  EstimatedSalary  \n",
       "0          1               1           600000  "
      ],
      "text/html": [
       "<div>\n",
       "<style scoped>\n",
       "    .dataframe tbody tr th:only-of-type {\n",
       "        vertical-align: middle;\n",
       "    }\n",
       "\n",
       "    .dataframe tbody tr th {\n",
       "        vertical-align: top;\n",
       "    }\n",
       "\n",
       "    .dataframe thead th {\n",
       "        text-align: right;\n",
       "    }\n",
       "</style>\n",
       "<table border=\"1\" class=\"dataframe\">\n",
       "  <thead>\n",
       "    <tr style=\"text-align: right;\">\n",
       "      <th></th>\n",
       "      <th>CreditScore</th>\n",
       "      <th>Geography</th>\n",
       "      <th>Gender</th>\n",
       "      <th>Age</th>\n",
       "      <th>Tenure</th>\n",
       "      <th>Balance</th>\n",
       "      <th>NumOfProducts</th>\n",
       "      <th>HasCrCard</th>\n",
       "      <th>IsActiveMember</th>\n",
       "      <th>EstimatedSalary</th>\n",
       "    </tr>\n",
       "  </thead>\n",
       "  <tbody>\n",
       "    <tr>\n",
       "      <th>0</th>\n",
       "      <td>600</td>\n",
       "      <td>France</td>\n",
       "      <td>Male</td>\n",
       "      <td>40</td>\n",
       "      <td>3</td>\n",
       "      <td>600000</td>\n",
       "      <td>2</td>\n",
       "      <td>1</td>\n",
       "      <td>1</td>\n",
       "      <td>600000</td>\n",
       "    </tr>\n",
       "  </tbody>\n",
       "</table>\n",
       "</div>"
      ]
     },
     "execution_count": 10,
     "metadata": {},
     "output_type": "execute_result"
    }
   ],
   "execution_count": 10
  },
  {
   "metadata": {
    "ExecuteTime": {
     "end_time": "2025-10-24T17:17:40.498686Z",
     "start_time": "2025-10-24T17:17:40.488527Z"
    }
   },
   "cell_type": "code",
   "source": [
    "# One-hot encode Geography\n",
    "geo_encoded = one_hot_encoder.transform(input_df[['Geography']])\n",
    "geo_encoded_df = pd.DataFrame(geo_encoded.toarray(), columns=one_hot_encoder.get_feature_names_out(['Geography']))\n",
    "\n",
    "# Label encode Gender\n",
    "input_df['Gender'] = labels_encoder_gender.transform(input_df['Gender'])"
   ],
   "id": "e23a326a7f33a6f0",
   "outputs": [],
   "execution_count": 11
  },
  {
   "metadata": {
    "ExecuteTime": {
     "end_time": "2025-10-24T17:17:41.139527Z",
     "start_time": "2025-10-24T17:17:41.131154Z"
    }
   },
   "cell_type": "code",
   "source": "input_df = pd.concat([input_df.drop('Geography',axis=1), geo_encoded_df], axis=1)",
   "id": "fe787de87b55ef43",
   "outputs": [],
   "execution_count": 12
  },
  {
   "metadata": {
    "ExecuteTime": {
     "end_time": "2025-10-24T17:17:41.712294Z",
     "start_time": "2025-10-24T17:17:41.695294Z"
    }
   },
   "cell_type": "code",
   "source": "input_df",
   "id": "fa4cd1276dd27db0",
   "outputs": [
    {
     "data": {
      "text/plain": [
       "   CreditScore  Gender  Age  Tenure  Balance  NumOfProducts  HasCrCard  \\\n",
       "0          600       1   40       3   600000              2          1   \n",
       "\n",
       "   IsActiveMember  EstimatedSalary  Geography_France  Geography_Germany  \\\n",
       "0               1           600000               1.0                0.0   \n",
       "\n",
       "   Geography_Spain  \n",
       "0              0.0  "
      ],
      "text/html": [
       "<div>\n",
       "<style scoped>\n",
       "    .dataframe tbody tr th:only-of-type {\n",
       "        vertical-align: middle;\n",
       "    }\n",
       "\n",
       "    .dataframe tbody tr th {\n",
       "        vertical-align: top;\n",
       "    }\n",
       "\n",
       "    .dataframe thead th {\n",
       "        text-align: right;\n",
       "    }\n",
       "</style>\n",
       "<table border=\"1\" class=\"dataframe\">\n",
       "  <thead>\n",
       "    <tr style=\"text-align: right;\">\n",
       "      <th></th>\n",
       "      <th>CreditScore</th>\n",
       "      <th>Gender</th>\n",
       "      <th>Age</th>\n",
       "      <th>Tenure</th>\n",
       "      <th>Balance</th>\n",
       "      <th>NumOfProducts</th>\n",
       "      <th>HasCrCard</th>\n",
       "      <th>IsActiveMember</th>\n",
       "      <th>EstimatedSalary</th>\n",
       "      <th>Geography_France</th>\n",
       "      <th>Geography_Germany</th>\n",
       "      <th>Geography_Spain</th>\n",
       "    </tr>\n",
       "  </thead>\n",
       "  <tbody>\n",
       "    <tr>\n",
       "      <th>0</th>\n",
       "      <td>600</td>\n",
       "      <td>1</td>\n",
       "      <td>40</td>\n",
       "      <td>3</td>\n",
       "      <td>600000</td>\n",
       "      <td>2</td>\n",
       "      <td>1</td>\n",
       "      <td>1</td>\n",
       "      <td>600000</td>\n",
       "      <td>1.0</td>\n",
       "      <td>0.0</td>\n",
       "      <td>0.0</td>\n",
       "    </tr>\n",
       "  </tbody>\n",
       "</table>\n",
       "</div>"
      ]
     },
     "execution_count": 13,
     "metadata": {},
     "output_type": "execute_result"
    }
   ],
   "execution_count": 13
  },
  {
   "metadata": {
    "ExecuteTime": {
     "end_time": "2025-10-24T17:17:42.304379Z",
     "start_time": "2025-10-24T17:17:42.296095Z"
    }
   },
   "cell_type": "code",
   "source": [
    "# scaling\n",
    "input_scaled =  scalar.transform(input_df)\n"
   ],
   "id": "cb73fe4a11f6a3b9",
   "outputs": [],
   "execution_count": 14
  },
  {
   "metadata": {
    "ExecuteTime": {
     "end_time": "2025-10-24T17:18:27.091616Z",
     "start_time": "2025-10-24T17:18:26.939720Z"
    }
   },
   "cell_type": "code",
   "source": [
    "#predict score\n",
    "prediction = model.predict(input_scaled)\n",
    "prediction"
   ],
   "id": "dacb78b173583a8f",
   "outputs": [
    {
     "name": "stdout",
     "output_type": "stream",
     "text": [
      "\u001B[1m1/1\u001B[0m \u001B[32m━━━━━━━━━━━━━━━━━━━━\u001B[0m\u001B[37m\u001B[0m \u001B[1m0s\u001B[0m 81ms/step\n"
     ]
    },
    {
     "data": {
      "text/plain": [
       "array([[0.05221669]], dtype=float32)"
      ]
     },
     "execution_count": 15,
     "metadata": {},
     "output_type": "execute_result"
    }
   ],
   "execution_count": 15
  },
  {
   "metadata": {
    "ExecuteTime": {
     "end_time": "2025-10-24T17:19:27.472607Z",
     "start_time": "2025-10-24T17:19:27.464887Z"
    }
   },
   "cell_type": "code",
   "source": [
    "prediction_prob = prediction[0][0]\n",
    "\n",
    "if prediction[0][0] > 0.5:\n",
    "    print(\"The customer is likely to churn.\")\n",
    "else:\n",
    "    print(\"The customer is not likely to churn.\")"
   ],
   "id": "388b5cc8798b7df8",
   "outputs": [
    {
     "name": "stdout",
     "output_type": "stream",
     "text": [
      "The customer is not likely to churn.\n"
     ]
    }
   ],
   "execution_count": 16
  },
  {
   "metadata": {},
   "cell_type": "code",
   "outputs": [],
   "execution_count": null,
   "source": "",
   "id": "c4047bf65cf6aefe"
  }
 ],
 "metadata": {
  "kernelspec": {
   "display_name": "Python 3",
   "language": "python",
   "name": "python3"
  },
  "language_info": {
   "codemirror_mode": {
    "name": "ipython",
    "version": 2
   },
   "file_extension": ".py",
   "mimetype": "text/x-python",
   "name": "python",
   "nbconvert_exporter": "python",
   "pygments_lexer": "ipython2",
   "version": "2.7.6"
  }
 },
 "nbformat": 4,
 "nbformat_minor": 5
}
